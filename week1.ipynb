{
  "nbformat": 4,
  "nbformat_minor": 0,
  "metadata": {
    "colab": {
      "name": "week1.ipynb",
      "provenance": [],
      "collapsed_sections": []
    },
    "kernelspec": {
      "name": "python3",
      "display_name": "Python 3"
    },
    "language_info": {
      "name": "python"
    }
  },
  "cells": [
    {
      "cell_type": "code",
      "metadata": {
        "colab": {
          "base_uri": "https://localhost:8080/"
        },
        "id": "7ZYuRfRWju7X",
        "outputId": "0b51ceac-9202-42ec-c9df-02dd89196ee8"
      },
      "source": [
        "a=[1,4,5,10,['a','b','c']]\n",
        "print(a)\n",
        "a.insert(3,20)\n",
        "print(a)\n",
        "a.remove(10)\n",
        "print(a)\n",
        "a.append('hi')\n",
        "print(a)\n",
        "print(len(a))\n",
        "a.pop()\n",
        "print(a)\n",
        "a.pop(2)\n",
        "print(a)\n",
        "b=[4,4]\n",
        "a.extend(b)\n",
        "print(a)\n",
        "a.clear()\n",
        "print(a)"
      ],
      "execution_count": null,
      "outputs": [
        {
          "output_type": "stream",
          "text": [
            "[1, 4, 5, 10, ['a', 'b', 'c']]\n",
            "[1, 4, 5, 20, 10, ['a', 'b', 'c']]\n",
            "[1, 4, 5, 20, ['a', 'b', 'c']]\n",
            "[1, 4, 5, 20, ['a', 'b', 'c'], 'hi']\n",
            "6\n",
            "[1, 4, 5, 20, ['a', 'b', 'c']]\n",
            "[1, 4, 20, ['a', 'b', 'c']]\n",
            "[1, 4, 20, ['a', 'b', 'c'], 4, 4]\n",
            "[]\n"
          ],
          "name": "stdout"
        }
      ]
    },
    {
      "cell_type": "code",
      "metadata": {
        "colab": {
          "base_uri": "https://localhost:8080/"
        },
        "id": "1PduwbvPoTSD",
        "outputId": "e78623fe-4cf8-46b9-cf16-38d479821474"
      },
      "source": [
        "x={'apple':28,'mango':35,'grape':23,'banana':15}\n",
        "print(x)\n",
        "print(len(x))\n",
        "print(x.keys())\n",
        "print(x.values())\n",
        "print(x.items())\n",
        "y=x.get('mango')\n",
        "print(y)\n",
        "x['banana']=30\n",
        "print(x)"
      ],
      "execution_count": null,
      "outputs": [
        {
          "output_type": "stream",
          "text": [
            "{'apple': 28, 'mango': 35, 'grape': 23, 'banana': 15}\n",
            "4\n",
            "dict_keys(['apple', 'mango', 'grape', 'banana'])\n",
            "dict_values([28, 35, 23, 15])\n",
            "dict_items([('apple', 28), ('mango', 35), ('grape', 23), ('banana', 15)])\n",
            "35\n",
            "{'apple': 28, 'mango': 35, 'grape': 23, 'banana': 30}\n"
          ],
          "name": "stdout"
        }
      ]
    },
    {
      "cell_type": "code",
      "metadata": {
        "colab": {
          "base_uri": "https://localhost:8080/"
        },
        "id": "IPUzWKB5qdVx",
        "outputId": "a52264a8-20e4-4ff7-847a-18a4551db34c"
      },
      "source": [
        "t=(1,2,3,'hello')\n",
        "print(t)\n",
        "print(len(t))\n",
        "print(t[3])\n",
        "print(t[1:3])\n",
        "y=(20,30)\n",
        "t1=t+y\n",
        "print(t1)\n",
        "\n"
      ],
      "execution_count": null,
      "outputs": [
        {
          "output_type": "stream",
          "text": [
            "(1, 2, 3, 'hello')\n",
            "4\n",
            "hello\n",
            "(2, 3)\n",
            "(1, 2, 3, 'hello', 20, 30)\n"
          ],
          "name": "stdout"
        }
      ]
    },
    {
      "cell_type": "code",
      "metadata": {
        "colab": {
          "base_uri": "https://localhost:8080/"
        },
        "id": "uWrDEyTosCIB",
        "outputId": "04952be3-ed2f-40c9-d354-0478166f8901"
      },
      "source": [
        "s={'a',1,'b',2,3,4}\n",
        "print(s)\n",
        "s.add('c')\n",
        "print(s)\n",
        "s.pop()\n",
        "print(s)\n",
        "s.remove(3)\n",
        "print(s)\n",
        "print(len(s))\n",
        "s.clear()\n",
        "print(s)"
      ],
      "execution_count": null,
      "outputs": [
        {
          "output_type": "stream",
          "text": [
            "{1, 2, 3, 4, 'b', 'a'}\n",
            "{1, 2, 3, 4, 'c', 'b', 'a'}\n",
            "{2, 3, 4, 'c', 'b', 'a'}\n",
            "{2, 4, 'c', 'b', 'a'}\n",
            "5\n",
            "set()\n"
          ],
          "name": "stdout"
        }
      ]
    }
  ]
}