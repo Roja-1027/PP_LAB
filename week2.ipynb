{
  "nbformat": 4,
  "nbformat_minor": 0,
  "metadata": {
    "colab": {
      "name": "week2.ipynb",
      "provenance": [],
      "collapsed_sections": []
    },
    "kernelspec": {
      "name": "python3",
      "display_name": "Python 3"
    },
    "language_info": {
      "name": "python"
    }
  },
  "cells": [
    {
      "cell_type": "code",
      "metadata": {
        "colab": {
          "base_uri": "https://localhost:8080/"
        },
        "id": "RNR3xBKotnr0",
        "outputId": "fead11ba-9f3d-4384-907a-7d39c54a4079"
      },
      "source": [
        "#add two numbers\n",
        "a=int(input(\"enter a's value \"))\n",
        "b=int(input(\"enter b's value \"))\n",
        "c=a+b\n",
        "print(\"sum of two numbers=\",c)"
      ],
      "execution_count": null,
      "outputs": [
        {
          "output_type": "stream",
          "text": [
            "enter a's value 10\n",
            "enter b's value 20\n",
            "sum of two numbers= 30\n"
          ],
          "name": "stdout"
        }
      ]
    },
    {
      "cell_type": "code",
      "metadata": {
        "colab": {
          "base_uri": "https://localhost:8080/"
        },
        "id": "ST3VBh5Ou0Sh",
        "outputId": "1aaaecfa-0cb5-4ebd-a1c5-bf38fe019831"
      },
      "source": [
        "#program to print a nmber is positive/negitive using if-else\n",
        "a=int(input(\"enter any number\"))\n",
        "if(a>0):\n",
        "  print(\"the given number is positive\")\n",
        "elif(a<0):\n",
        "  print(\"the given number is negitive\")\n",
        "else:\n",
        "  print(\"the given number is 0\")\n",
        "\n"
      ],
      "execution_count": null,
      "outputs": [
        {
          "output_type": "stream",
          "text": [
            "enter any number10\n",
            "the given number is positive\n"
          ],
          "name": "stdout"
        }
      ]
    },
    {
      "cell_type": "code",
      "metadata": {
        "colab": {
          "base_uri": "https://localhost:8080/"
        },
        "id": "bvAUOl4GwIgd",
        "outputId": "a45ab28d-f7bb-4ff5-f334-37d568d8e8aa"
      },
      "source": [
        "#program to find largest of three numbers\n",
        "a=int(input(\"enter a's value \"))\n",
        "b=int(input(\"enter b's value \"))\n",
        "c=int(input(\"enter c's value \"))\n",
        "if((a>b)and(a>c)):\n",
        "  print(\"a is greater\",a)\n",
        "elif((b>a)and(a>c)):\n",
        "  print(\"b is greater\",b)\n",
        "else:\n",
        "  print(\"c is greater\",c)\n",
        "  \n",
        "  \n",
        "\n",
        "\n"
      ],
      "execution_count": null,
      "outputs": [
        {
          "output_type": "stream",
          "text": [
            "enter a's value 10\n",
            "enter b's value 20\n",
            "enter c's value 30\n",
            "c is greater 30\n"
          ],
          "name": "stdout"
        }
      ]
    },
    {
      "cell_type": "code",
      "metadata": {
        "colab": {
          "base_uri": "https://localhost:8080/"
        },
        "id": "HIEI96CgyOAG",
        "outputId": "cdaa9076-22b6-4ed6-ef4c-183a60e7a25d"
      },
      "source": [
        "# program toread a number and display corresponding day using if-elif-else\n",
        "x=int(input(\"enter any number between 1-7 \"))\n",
        "if(x==1):\n",
        "  print(\"moday\")\n",
        "elif(x==3):\n",
        "  print(\"tuesday\")\n",
        "elif(x==3):\n",
        "  print(\"wednesday\")\n",
        "elif(x==4):\n",
        "  print(\"thursday\")\n",
        "elif(x==5):\n",
        "  print(\"friday\")\n",
        "elif(x==6):\n",
        "  print(\"saturday\")\n",
        "else:\n",
        "  print(\"sunday\")\n",
        "  \n",
        "\n",
        "\n",
        "\n"
      ],
      "execution_count": null,
      "outputs": [
        {
          "output_type": "stream",
          "text": [
            "enter any number between 1-7 5\n",
            "friday\n"
          ],
          "name": "stdout"
        }
      ]
    },
    {
      "cell_type": "code",
      "metadata": {
        "colab": {
          "base_uri": "https://localhost:8080/"
        },
        "id": "raucdsEc6CMx",
        "outputId": "748914e3-9ab0-46fb-a381-8be58eae3580"
      },
      "source": [
        "t=(1,2,3,'hello')\n",
        "d={t[0]:10,t[1]:56}\n",
        "print(d)\n"
      ],
      "execution_count": null,
      "outputs": [
        {
          "output_type": "stream",
          "text": [
            "{1: 10, 2: 56}\n"
          ],
          "name": "stdout"
        }
      ]
    }
  ]
}