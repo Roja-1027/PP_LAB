{
  "nbformat": 4,
  "nbformat_minor": 0,
  "metadata": {
    "colab": {
      "name": "week3.ipynb",
      "provenance": [],
      "collapsed_sections": []
    },
    "kernelspec": {
      "name": "python3",
      "display_name": "Python 3"
    },
    "language_info": {
      "name": "python"
    }
  },
  "cells": [
    {
      "cell_type": "code",
      "metadata": {
        "colab": {
          "base_uri": "https://localhost:8080/"
        },
        "id": "mnEMs1c0kHJj",
        "outputId": "b12bfe4d-d569-40e3-f819-63dafb6b4a53"
      },
      "source": [
        "#write a program to create a menu with operations\n",
        "def add(a,b):\n",
        "  return a+b\n",
        "def sub(c,d):\n",
        "  return c-d\n",
        "def mul(e,f):\n",
        "  return e*f\n",
        "def div(g,h):\n",
        "  return g/h\n",
        "print(\"*******\")\n",
        "print(\"1. To perform addition\")\n",
        "print(\"2. To perform substraction\")\n",
        "print(\"3. To perform multiplication\")\n",
        "print(\"4. To perform division\")\n",
        "print(\"*******\")\n",
        "choice = int(input(\"enter your choice \"))\n",
        "if choice == 1:\n",
        "  a=int(input(\"enter 1st value \"))\n",
        "  b=int(input(\"enter 2nd value \"))\n",
        "  print(add(a,b))\n",
        "elif choice == 2:\n",
        "  c=int(input(\"enter 1st value \"))\n",
        "  d=int(input(\"enter 2nd value \"))\n",
        "  print(sub(c,d))\n",
        "elif choice == 3:\n",
        "  e=int(input(\"enter 1st value \"))\n",
        "  f=int(input(\"enter 2nd value \"))\n",
        "  print(mul(e,f))\n",
        "elif choice == 4:\n",
        "  g=int(input(\"enter 1st value \"))\n",
        "  h=int(input(\"enter 2nd value \"))\n",
        "  print(div(g,h))\n",
        "else:\n",
        "  print(\"wrong choice\")\n",
        "\n",
        "\n",
        "\n",
        "\n",
        "\n",
        "\n"
      ],
      "execution_count": null,
      "outputs": [
        {
          "output_type": "stream",
          "text": [
            "*******\n",
            "1. To perform addition\n",
            "2. To perform substraction\n",
            "3. To perform multiplication\n",
            "4. To perform division\n",
            "*******\n",
            "enter your choice 3\n",
            "enter 1st value 4\n",
            "enter 2nd value 5\n",
            "20\n"
          ],
          "name": "stdout"
        }
      ]
    },
    {
      "cell_type": "code",
      "metadata": {
        "colab": {
          "base_uri": "https://localhost:8080/"
        },
        "id": "1ODhk4X-pSYa",
        "outputId": "577abf7d-692a-4d3a-f9a9-a59ac75db768"
      },
      "source": [
        "#check whether given string is palindrome or not\n",
        "s=input(\"enter a string: \")\n",
        "if(s==s[::-1]):\n",
        "  print(\"The string is a palindrome\")\n",
        "else:\n",
        "  print(\"The string is not palindrome\")"
      ],
      "execution_count": null,
      "outputs": [
        {
          "output_type": "stream",
          "text": [
            "enter a string: madam\n",
            "The string is a palindrome\n"
          ],
          "name": "stdout"
        }
      ]
    },
    {
      "cell_type": "code",
      "metadata": {
        "colab": {
          "base_uri": "https://localhost:8080/"
        },
        "id": "lk3PL7TvqsRa",
        "outputId": "7d021f96-b141-427f-ce76-5c5e0403efc5"
      },
      "source": [
        "#factorial\n",
        "def fact(n):\n",
        "  if n == 1:\n",
        "    return n\n",
        "  else:\n",
        "    return n*fact(n-1)\n",
        "num = int(input(\"enter a number:\"))\n",
        "if num<0:\n",
        "  print(\"factorial does not exist \")\n",
        "elif num == 0:\n",
        "  print(\"factorial of 0 is 1\")\n",
        "else:\n",
        "  print(\"factorial of\", num ,\"is\", fact(num))\n",
        "\n",
        "\n",
        "\n"
      ],
      "execution_count": null,
      "outputs": [
        {
          "output_type": "stream",
          "text": [
            "enter a number:5\n",
            "factorial of 5 is 120\n"
          ],
          "name": "stdout"
        }
      ]
    },
    {
      "cell_type": "code",
      "metadata": {
        "colab": {
          "base_uri": "https://localhost:8080/"
        },
        "id": "vPuNe9vA6XPb",
        "outputId": "d15c42f9-7ccb-4a72-e528-04ebe664a8ae"
      },
      "source": [
        "list1=eval(input(\"enter values of list1 \"))\n",
        "list2=eval(input(\"enter values of list2 \"))\n",
        "if(len(list1)==len(list2)):\n",
        "  if(sorted(list1)==sorted(list2)):\n",
        "    print(\"True\")\n",
        "  else:\n",
        "    print(\"false\")\n",
        "else:\n",
        "  print(\"false\")"
      ],
      "execution_count": null,
      "outputs": [
        {
          "output_type": "stream",
          "text": [
            "enter values of list1 1,2,3,4,5\n",
            "enter values of list2 1,2,3,4,5\n",
            "True\n"
          ],
          "name": "stdout"
        }
      ]
    },
    {
      "cell_type": "code",
      "metadata": {
        "id": "VU-SzakirS9p"
      },
      "source": [
        "#write a program whether the list is empty or not\n",
        "#write a python program to check how many suffix are equal in given list"
      ],
      "execution_count": null,
      "outputs": []
    },
    {
      "cell_type": "code",
      "metadata": {
        "colab": {
          "base_uri": "https://localhost:8080/"
        },
        "id": "Ih1oQd1JsR5v",
        "outputId": "bb17897b-fea6-4ef5-cb69-37d502c78336"
      },
      "source": [
        "for _ in range(10):\n",
        "  print(\"python\")"
      ],
      "execution_count": null,
      "outputs": [
        {
          "output_type": "stream",
          "text": [
            "python\n",
            "python\n",
            "python\n",
            "python\n",
            "python\n",
            "python\n",
            "python\n",
            "python\n",
            "python\n",
            "python\n"
          ],
          "name": "stdout"
        }
      ]
    }
  ]
}